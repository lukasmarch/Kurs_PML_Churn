{
 "cells": [
  {
   "cell_type": "code",
   "execution_count": 14,
   "id": "retired-nature",
   "metadata": {},
   "outputs": [],
   "source": [
    "import pandas as pd\n",
    "pd.set_option('display.max_columns', None)\n",
    "import numpy as np\n",
    "import matplotlib.pyplot as plt\n",
    "import seaborn as sns\n",
    "\n",
    "from sklearn.dummy import DummyClassifier\n",
    "from sklearn.metrics import fbeta_score, precision_score, recall_score"
   ]
  },
  {
   "cell_type": "code",
   "execution_count": 15,
   "id": "consecutive-pickup",
   "metadata": {},
   "outputs": [
    {
     "data": {
      "text/plain": [
       "((34999, 171), (35000, 170))"
      ]
     },
     "execution_count": 15,
     "metadata": {},
     "output_type": "execute_result"
    }
   ],
   "source": [
    "df_train = pd.read_hdf(\"../input/train_churn_pred.h5\")\n",
    "df_test = pd.read_hdf(\"../input/test_churn_pred.h5\")\n",
    "df_train.shape, df_test.shape"
   ]
  },
  {
   "cell_type": "code",
   "execution_count": 6,
   "id": "spiritual-sheep",
   "metadata": {
    "scrolled": true
   },
   "outputs": [
    {
     "data": {
      "text/plain": [
       "Index(['id', 'loc_og_t2o_mou', 'std_og_t2o_mou', 'loc_ic_t2o_mou',\n",
       "       'last_date_of_month_6', 'last_date_of_month_7', 'last_date_of_month_8',\n",
       "       'arpu_6', 'arpu_7', 'arpu_8',\n",
       "       ...\n",
       "       'sachet_3g_7', 'sachet_3g_8', 'fb_user_6', 'fb_user_7', 'fb_user_8',\n",
       "       'aon', 'aug_vbc_3g', 'jul_vbc_3g', 'jun_vbc_3g', 'churn_probability'],\n",
       "      dtype='object', length=171)"
      ]
     },
     "execution_count": 6,
     "metadata": {},
     "output_type": "execute_result"
    }
   ],
   "source": [
    "df_train.columns"
   ]
  },
  {
   "cell_type": "code",
   "execution_count": 18,
   "id": "european-junior",
   "metadata": {
    "scrolled": true
   },
   "outputs": [
    {
     "data": {
      "text/plain": [
       "<AxesSubplot:>"
      ]
     },
     "execution_count": 18,
     "metadata": {},
     "output_type": "execute_result"
    },
    {
     "data": {
      "image/png": "[encoded data removed]",
      "text/plain": [
       "<Figure size 432x288 with 1 Axes>"
      ]
     },
     "metadata": {
      "needs_background": "light"
     },
     "output_type": "display_data"
    }
   ],
   "source": [
    "df_train['arpu_6'].hist()"
   ]
  },
  {
   "cell_type": "code",
   "execution_count": 19,
   "id": "technical-sandwich",
   "metadata": {
    "scrolled": true
   },
   "outputs": [
    {
     "data": {
      "text/plain": [
       "<AxesSubplot:>"
      ]
     },
     "execution_count": 19,
     "metadata": {},
     "output_type": "execute_result"
    },
    {
     "data": {
      "image/png": "[encoded data removed]",
      "text/plain": [
       "<Figure size 432x288 with 1 Axes>"
      ]
     },
     "metadata": {
      "needs_background": "light"
     },
     "output_type": "display_data"
    }
   ],
   "source": [
    "df_train['arpu_6'].hist(bins =100)"
   ]
  },
  {
   "cell_type": "code",
   "execution_count": 54,
   "id": "advanced-namibia",
   "metadata": {},
   "outputs": [
    {
     "data": {
      "text/plain": [
       "0"
      ]
     },
     "execution_count": 54,
     "metadata": {},
     "output_type": "execute_result"
    }
   ],
   "source": [
    "(df_train['arpu_6']  == '-inf').sum()"
   ]
  },
  {
   "cell_type": "code",
   "execution_count": 22,
   "id": "brief-shepherd",
   "metadata": {},
   "outputs": [],
   "source": [
    "arpu_log = np.log(df_train['arpu_6'])"
   ]
  },
  {
   "cell_type": "code",
   "execution_count": 55,
   "id": "based-angle",
   "metadata": {},
   "outputs": [],
   "source": [
    "arpu_log[arpu_log <= 0] = 0"
   ]
  },
  {
   "cell_type": "code",
   "execution_count": 58,
   "id": "african-stream",
   "metadata": {
    "scrolled": true
   },
   "outputs": [
    {
     "data": {
      "text/plain": [
       "<AxesSubplot:>"
      ]
     },
     "execution_count": 58,
     "metadata": {},
     "output_type": "execute_result"
    },
    {
     "data": {
      "image/png": "[encoded data removed]",
      "text/plain": [
       "<Figure size 432x288 with 1 Axes>"
      ]
     },
     "metadata": {
      "needs_background": "light"
     },
     "output_type": "display_data"
    }
   ],
   "source": [
    "arpu_log.hist(bins = 100)"
   ]
  },
  {
   "cell_type": "code",
   "execution_count": 59,
   "id": "civilian-geneva",
   "metadata": {},
   "outputs": [],
   "source": [
    " df_train['arpu_log']= arpu_log"
   ]
  },
  {
   "cell_type": "code",
   "execution_count": 7,
   "id": "designing-former",
   "metadata": {},
   "outputs": [
    {
     "data": {
      "text/plain": [
       "105864.44"
      ]
     },
     "execution_count": 7,
     "metadata": {},
     "output_type": "execute_result"
    }
   ],
   "source": [
    "df_train['arpu_6'].var()"
   ]
  },
  {
   "cell_type": "code",
   "execution_count": 15,
   "id": "loving-apparel",
   "metadata": {},
   "outputs": [
    {
     "data": {
      "text/plain": [
       "282.20078"
      ]
     },
     "execution_count": 15,
     "metadata": {},
     "output_type": "execute_result"
    }
   ],
   "source": [
    "mean_ = df_train['arpu_6'].mean()\n",
    "mean_"
   ]
  },
  {
   "cell_type": "code",
   "execution_count": 16,
   "id": "spatial-mixer",
   "metadata": {},
   "outputs": [
    {
     "data": {
      "text/plain": [
       "105861.4159174919"
      ]
     },
     "execution_count": 16,
     "metadata": {},
     "output_type": "execute_result"
    }
   ],
   "source": [
    "var = np.mean([(i  - mean_)**2 for i in  df_train['arpu_6'] ])\n",
    "var"
   ]
  },
  {
   "cell_type": "code",
   "execution_count": 17,
   "id": "overhead-damage",
   "metadata": {},
   "outputs": [
    {
     "data": {
      "text/plain": [
       "325.36351350065655"
      ]
     },
     "execution_count": 17,
     "metadata": {},
     "output_type": "execute_result"
    }
   ],
   "source": [
    "var**0.5"
   ]
  },
  {
   "cell_type": "code",
   "execution_count": 60,
   "id": "eastern-consciousness",
   "metadata": {
    "scrolled": true
   },
   "outputs": [
    {
     "data": {
      "text/plain": [
       "2.2485254"
      ]
     },
     "execution_count": 60,
     "metadata": {},
     "output_type": "execute_result"
    }
   ],
   "source": [
    "np.var(df_train['arpu_log'])"
   ]
  },
  {
   "cell_type": "code",
   "execution_count": 65,
   "id": "stone-beijing",
   "metadata": {},
   "outputs": [
    {
     "data": {
      "text/plain": [
       "196.879"
      ]
     },
     "execution_count": 65,
     "metadata": {},
     "output_type": "execute_result"
    }
   ],
   "source": [
    "np.median(df_train['arpu_6'])"
   ]
  },
  {
   "cell_type": "code",
   "execution_count": 71,
   "id": "auburn-quality",
   "metadata": {},
   "outputs": [
    {
     "data": {
      "text/plain": [
       "138.39875030517578"
      ]
     },
     "execution_count": 71,
     "metadata": {},
     "output_type": "execute_result"
    }
   ],
   "source": [
    "q = (np.percentile(df_train['arpu_6'], 75) - np.percentile(df_train['arpu_6'], 25))/2\n",
    "q"
   ]
  },
  {
   "cell_type": "code",
   "execution_count": 69,
   "id": "requested-canon",
   "metadata": {},
   "outputs": [
    {
     "data": {
      "text/plain": [
       "70.29635047403396"
      ]
     },
     "execution_count": 69,
     "metadata": {},
     "output_type": "execute_result"
    }
   ],
   "source": [
    "q/np.median(df_train['arpu_6'])*100"
   ]
  },
  {
   "cell_type": "code",
   "execution_count": 74,
   "id": "spare-settlement",
   "metadata": {},
   "outputs": [
    {
     "data": {
      "text/plain": [
       "44.49441292380174"
      ]
     },
     "execution_count": 74,
     "metadata": {},
     "output_type": "execute_result"
    }
   ],
   "source": [
    "np.percentile(df_train['arpu_6'], 99) / np.percentile(df_train['arpu_6'], 10)"
   ]
  },
  {
   "cell_type": "code",
   "execution_count": 100,
   "id": "incorrect-choice",
   "metadata": {
    "scrolled": false
   },
   "outputs": [
    {
     "data": {
      "text/plain": [
       "<AxesSubplot:>"
      ]
     },
     "execution_count": 100,
     "metadata": {},
     "output_type": "execute_result"
    },
    {
     "data": {
      "image/png": "[encoded data removed]",
      "text/plain": [
       "<Figure size 432x288 with 1 Axes>"
      ]
     },
     "metadata": {
      "needs_background": "light"
     },
     "output_type": "display_data"
    }
   ],
   "source": [
    "df_train[df_train['arpu_8'] < np.percentile(df_train['arpu_6'],99)]['arpu_6'].hist(bins = 50)"
   ]
  },
  {
   "cell_type": "code",
   "execution_count": 97,
   "id": "silent-database",
   "metadata": {},
   "outputs": [
    {
     "data": {
      "text/plain": [
       "8.626272"
      ]
     },
     "execution_count": 97,
     "metadata": {},
     "output_type": "execute_result"
    }
   ],
   "source": [
    "df_train['arpu_6'].skew()"
   ]
  },
  {
   "cell_type": "code",
   "execution_count": 95,
   "id": "novel-intranet",
   "metadata": {},
   "outputs": [
    {
     "data": {
      "text/plain": [
       "(1429, 172)"
      ]
     },
     "execution_count": 95,
     "metadata": {},
     "output_type": "execute_result"
    }
   ],
   "source": [
    "df_train[df_train['arpu_6']<= 0].shape"
   ]
  },
  {
   "cell_type": "code",
   "execution_count": 103,
   "id": "coordinated-summary",
   "metadata": {},
   "outputs": [
    {
     "data": {
      "text/plain": [
       "array([[0., 1., 2.],\n",
       "       [3., 4., 5.],\n",
       "       [6., 7., 8.]])"
      ]
     },
     "execution_count": 103,
     "metadata": {},
     "output_type": "execute_result"
    }
   ],
   "source": [
    "np.arange(9.0).reshape((3,3))"
   ]
  },
  {
   "cell_type": "code",
   "execution_count": 114,
   "id": "material-problem",
   "metadata": {
    "scrolled": true
   },
   "outputs": [
    {
     "data": {
      "text/plain": [
       "138.39875030517578"
      ]
     },
     "execution_count": 114,
     "metadata": {},
     "output_type": "execute_result"
    }
   ],
   "source": [
    "np.subtract(*np.percentile(df_train['arpu_6'], [75,25]))/2"
   ]
  },
  {
   "cell_type": "code",
   "execution_count": 117,
   "id": "african-yield",
   "metadata": {},
   "outputs": [
    {
     "data": {
      "text/plain": [
       "(-43.16275, 607.56433)"
      ]
     },
     "execution_count": 117,
     "metadata": {},
     "output_type": "execute_result"
    }
   ],
   "source": [
    "(np.mean(df_train['arpu_6']) - np.std(df_train['arpu_6']), np.mean(df_train['arpu_6']) + np.std(df_train['arpu_6']))"
   ]
  },
  {
   "cell_type": "code",
   "execution_count": 127,
   "id": "brutal-broadcasting",
   "metadata": {
    "scrolled": true
   },
   "outputs": [
    {
     "data": {
      "text/plain": [
       "<matplotlib.collections.LineCollection at 0x7f54de9ed1f0>"
      ]
     },
     "execution_count": 127,
     "metadata": {},
     "output_type": "execute_result"
    },
    {
     "data": {
      "image/png": "[encoded data removed]",
      "text/plain": [
       "<Figure size 432x288 with 1 Axes>"
      ]
     },
     "metadata": {
      "needs_background": "light"
     },
     "output_type": "display_data"
    }
   ],
   "source": [
    "df_train['arpu_6'].hist(bins =50)\n",
    "plt.vlines(x = df_train['arpu_6'].mean(), ymin = 0, ymax = 20000, color = 'red')\n",
    "plt.vlines(x = [(np.mean(df_train['arpu_6']) - np.std(df_train['arpu_6']), np.mean(df_train['arpu_6']) + np.std(df_train['arpu_6']))],\n",
    "           ymin = 0, ymax = 20000, color = 'blue')"
   ]
  },
  {
   "cell_type": "markdown",
   "id": "affecting-picnic",
   "metadata": {},
   "source": [
    "### Wizualizacja "
   ]
  },
  {
   "cell_type": "code",
   "execution_count": 6,
   "id": "imperial-proposal",
   "metadata": {
    "scrolled": true
   },
   "outputs": [
    {
     "data": {
      "text/html": [
       "<div>\n",
       "<style scoped>\n",
       "    .dataframe tbody tr th:only-of-type {\n",
       "        vertical-align: middle;\n",
       "    }\n",
       "\n",
       "    .dataframe tbody tr th {\n",
       "        vertical-align: top;\n",
       "    }\n",
       "\n",
       "    .dataframe thead th {\n",
       "        text-align: right;\n",
       "    }\n",
       "</style>\n",
       "<table border=\"1\" class=\"dataframe\">\n",
       "  <thead>\n",
       "    <tr style=\"text-align: right;\">\n",
       "      <th></th>\n",
       "      <th>total_ic_mou_6</th>\n",
       "      <th>total_ic_mou_7</th>\n",
       "      <th>total_ic_mou_8</th>\n",
       "    </tr>\n",
       "    <tr>\n",
       "      <th>churn_probability</th>\n",
       "      <th></th>\n",
       "      <th></th>\n",
       "      <th></th>\n",
       "    </tr>\n",
       "  </thead>\n",
       "  <tbody>\n",
       "    <tr>\n",
       "      <th>0</th>\n",
       "      <td>204.221909</td>\n",
       "      <td>211.525742</td>\n",
       "      <td>213.959351</td>\n",
       "    </tr>\n",
       "    <tr>\n",
       "      <th>1</th>\n",
       "      <td>139.901855</td>\n",
       "      <td>98.978706</td>\n",
       "      <td>39.676792</td>\n",
       "    </tr>\n",
       "  </tbody>\n",
       "</table>\n",
       "</div>"
      ],
      "text/plain": [
       "                   total_ic_mou_6  total_ic_mou_7  total_ic_mou_8\n",
       "churn_probability                                                \n",
       "0                      204.221909      211.525742      213.959351\n",
       "1                      139.901855       98.978706       39.676792"
      ]
     },
     "execution_count": 6,
     "metadata": {},
     "output_type": "execute_result"
    }
   ],
   "source": [
    "df_train[['total_ic_mou_6', 'total_ic_mou_7', 'total_ic_mou_8', 'churn_probability']].groupby('churn_probability').agg('mean')"
   ]
  },
  {
   "cell_type": "code",
   "execution_count": 33,
   "id": "drawn-cross",
   "metadata": {
    "scrolled": false
   },
   "outputs": [],
   "source": [
    "feats = ['total_ic_mou_6', 'total_ic_mou_7', 'total_ic_mou_8']\n"
   ]
  },
  {
   "cell_type": "code",
   "execution_count": 64,
   "id": "remarkable-milton",
   "metadata": {},
   "outputs": [
    {
     "data": {
      "text/plain": [
       "<AxesSubplot:xlabel='churn_probability', ylabel='total_ic_mou_8'>"
      ]
     },
     "execution_count": 64,
     "metadata": {},
     "output_type": "execute_result"
    },
    {
     "data": {
      "image/png": "[encoded data removed]",
      "text/plain": [
       "<Figure size 1080x432 with 3 Axes>"
      ]
     },
     "metadata": {
      "needs_background": "light"
     },
     "output_type": "display_data"
    }
   ],
   "source": [
    "\n",
    "fig , axs = plt.subplots(1,3, figsize = (15,6))\n",
    "sns.boxplot(ax = axs[0] ,x = 'churn_probability', y = 'total_ic_mou_6', data = df_train)\n",
    "\n",
    "sns.boxplot(ax = axs[1], x = 'churn_probability', y = 'total_ic_mou_7', data = df_train)\n",
    "\n",
    "sns.boxplot(ax = axs[2], x = 'churn_probability', y = 'total_ic_mou_8', data = df_train)"
   ]
  },
  {
   "cell_type": "code",
   "execution_count": 71,
   "id": "official-april",
   "metadata": {
    "scrolled": true
   },
   "outputs": [
    {
     "data": {
      "image/png": "[encoded data removed]",
      "text/plain": [
       "<Figure size 1080x432 with 3 Axes>"
      ]
     },
     "metadata": {
      "needs_background": "light"
     },
     "output_type": "display_data"
    }
   ],
   "source": [
    "plt.figure( figsize = (15,6))\n",
    "\n",
    "plt.subplot(1,3,1)\n",
    "sns.boxplot(x = 'churn_probability', y = 'total_ic_mou_6', data = df_train)\n",
    "plt.subplot(1,3,2)\n",
    "sns.boxplot(x = 'churn_probability', y = 'total_ic_mou_7', data = df_train)\n",
    "plt.subplot(1,3,3)\n",
    "sns.boxplot(x = 'churn_probability', y = 'total_ic_mou_8', data = df_train)\n",
    "plt.show()"
   ]
  },
  {
   "cell_type": "code",
   "execution_count": 72,
   "id": "small-mortgage",
   "metadata": {},
   "outputs": [
    {
     "data": {
      "text/plain": [
       "count    34999.000000\n",
       "mean       196.201950\n",
       "std        281.429352\n",
       "min          0.000000\n",
       "25%         37.635000\n",
       "50%        113.580002\n",
       "75%        249.070000\n",
       "max      10830.379883\n",
       "Name: total_ic_mou_8, dtype: float64"
      ]
     },
     "execution_count": 72,
     "metadata": {},
     "output_type": "execute_result"
    }
   ],
   "source": [
    "df_train['total_ic_mou_8'].describe()"
   ]
  },
  {
   "cell_type": "code",
   "execution_count": 77,
   "id": "academic-occasion",
   "metadata": {},
   "outputs": [],
   "source": [
    "IQR = np.subtract(*np.percentile(df_train['total_ic_mou_8'],[75,25]))"
   ]
  },
  {
   "cell_type": "code",
   "execution_count": 84,
   "id": "egyptian-finance",
   "metadata": {},
   "outputs": [],
   "source": [
    "my_max = np.percentile(df_train['total_ic_mou_8'], 75) + IQR"
   ]
  },
  {
   "cell_type": "code",
   "execution_count": 85,
   "id": "charged-prisoner",
   "metadata": {},
   "outputs": [
    {
     "data": {
      "text/plain": [
       "460.5049991607666"
      ]
     },
     "execution_count": 85,
     "metadata": {},
     "output_type": "execute_result"
    }
   ],
   "source": [
    "my_max"
   ]
  },
  {
   "cell_type": "code",
   "execution_count": 90,
   "id": "advisory-watts",
   "metadata": {
    "scrolled": true
   },
   "outputs": [
    {
     "data": {
      "text/plain": [
       "0    3355\n",
       "1     229\n",
       "Name: churn_probability, dtype: int64"
      ]
     },
     "execution_count": 90,
     "metadata": {},
     "output_type": "execute_result"
    }
   ],
   "source": [
    "df_train[df_train['total_ic_mou_6'] > my_max]['churn_probability'].value_counts()"
   ]
  },
  {
   "cell_type": "code",
   "execution_count": 91,
   "id": "naked-scholar",
   "metadata": {},
   "outputs": [
    {
     "data": {
      "text/plain": [
       "0    3447\n",
       "1     144\n",
       "Name: churn_probability, dtype: int64"
      ]
     },
     "execution_count": 91,
     "metadata": {},
     "output_type": "execute_result"
    }
   ],
   "source": [
    "df_train[df_train['total_ic_mou_7'] > my_max]['churn_probability'].value_counts()"
   ]
  },
  {
   "cell_type": "code",
   "execution_count": 89,
   "id": "outdoor-guatemala",
   "metadata": {
    "scrolled": false
   },
   "outputs": [
    {
     "data": {
      "text/plain": [
       "0    3432\n",
       "1      57\n",
       "Name: churn_probability, dtype: int64"
      ]
     },
     "execution_count": 89,
     "metadata": {},
     "output_type": "execute_result"
    }
   ],
   "source": [
    "df_train[df_train['total_ic_mou_8'] > my_max]['churn_probability'].value_counts()"
   ]
  },
  {
   "cell_type": "code",
   "execution_count": 106,
   "id": "planned-search",
   "metadata": {},
   "outputs": [],
   "source": [
    "def get_iqr_cof(data, cof = 1.5):\n",
    "    q1 = np.percentile(data, 25)\n",
    "    q3 = np.percentile(data, 75)\n",
    "    iqr = q3 - q1\n",
    "    \n",
    "    max_cof = q3 + cof*iqr\n",
    "    min_cof = q1 - cof*iqr\n",
    "    return min_cof, max_cof"
   ]
  },
  {
   "cell_type": "code",
   "execution_count": 112,
   "id": "noble-literature",
   "metadata": {
    "scrolled": false
   },
   "outputs": [
    {
     "data": {
      "text/plain": [
       "0    1950\n",
       "1     298\n",
       "Name: churn_probability, dtype: int64"
      ]
     },
     "execution_count": 112,
     "metadata": {},
     "output_type": "execute_result"
    }
   ],
   "source": [
    "min_cof, max_cof = get_iqr_cof(df_train['total_rech_num_6'])\n",
    "df_train[df_train['total_rech_num_6'] >  max_cof]['churn_probability'].value_counts()"
   ]
  },
  {
   "cell_type": "code",
   "execution_count": 113,
   "id": "cross-location",
   "metadata": {},
   "outputs": [
    {
     "data": {
      "text/plain": [
       "0    1651\n",
       "1     146\n",
       "Name: churn_probability, dtype: int64"
      ]
     },
     "execution_count": 113,
     "metadata": {},
     "output_type": "execute_result"
    }
   ],
   "source": [
    "min_cof, max_cof = get_iqr_cof(df_train['total_rech_num_7'])\n",
    "df_train[df_train['total_rech_num_7'] >  max_cof]['churn_probability'].value_counts()"
   ]
  },
  {
   "cell_type": "code",
   "execution_count": 111,
   "id": "postal-coast",
   "metadata": {
    "scrolled": false
   },
   "outputs": [
    {
     "data": {
      "text/plain": [
       "0    2226\n",
       "1      58\n",
       "Name: churn_probability, dtype: int64"
      ]
     },
     "execution_count": 111,
     "metadata": {},
     "output_type": "execute_result"
    }
   ],
   "source": [
    "min_cof, max_cof = get_iqr_cof(df_train['total_rech_num_8'])\n",
    "df_train[df_train['total_rech_num_8'] >  max_cof]['churn_probability'].value_counts()"
   ]
  },
  {
   "cell_type": "code",
   "execution_count": 116,
   "id": "tropical-means",
   "metadata": {},
   "outputs": [
    {
     "data": {
      "text/plain": [
       "5.093659"
      ]
     },
     "execution_count": 116,
     "metadata": {},
     "output_type": "execute_result"
    }
   ],
   "source": [
    "df_train['total_ic_mou_6'].skew()"
   ]
  },
  {
   "cell_type": "code",
   "execution_count": 115,
   "id": "olympic-feeling",
   "metadata": {},
   "outputs": [
    {
     "data": {
      "text/plain": [
       "3.1658766861737506"
      ]
     },
     "execution_count": 115,
     "metadata": {},
     "output_type": "execute_result"
    }
   ],
   "source": [
    "df_train['total_rech_num_8'].skew()"
   ]
  },
  {
   "cell_type": "code",
   "execution_count": 122,
   "id": "considerable-seeking",
   "metadata": {},
   "outputs": [],
   "source": [
    "feats_select = [\n",
    "'date_of_last_rech_6',\n",
    "'date_of_last_rech_7',\n",
    "'date_of_last_rech_8',\n",
    "'date_of_last_rech_data_6',\n",
    "'date_of_last_rech_data_7',\n",
    "'date_of_last_rech_data_8',\n",
    "'fb_user_6',\n",
    "'fb_user_7',\n",
    "'fb_user_8',\n",
    "'night_pck_user_6',\n",
    "'night_pck_user_7',\n",
    "'night_pck_user_8']"
   ]
  },
  {
   "cell_type": "code",
   "execution_count": 123,
   "id": "female-language",
   "metadata": {
    "scrolled": true
   },
   "outputs": [
    {
     "data": {
      "text/html": [
       "<div>\n",
       "<style scoped>\n",
       "    .dataframe tbody tr th:only-of-type {\n",
       "        vertical-align: middle;\n",
       "    }\n",
       "\n",
       "    .dataframe tbody tr th {\n",
       "        vertical-align: top;\n",
       "    }\n",
       "\n",
       "    .dataframe thead th {\n",
       "        text-align: right;\n",
       "    }\n",
       "</style>\n",
       "<table border=\"1\" class=\"dataframe\">\n",
       "  <thead>\n",
       "    <tr style=\"text-align: right;\">\n",
       "      <th></th>\n",
       "      <th>date_of_last_rech_6</th>\n",
       "      <th>date_of_last_rech_7</th>\n",
       "      <th>date_of_last_rech_8</th>\n",
       "      <th>date_of_last_rech_data_6</th>\n",
       "      <th>date_of_last_rech_data_7</th>\n",
       "      <th>date_of_last_rech_data_8</th>\n",
       "      <th>fb_user_6</th>\n",
       "      <th>fb_user_7</th>\n",
       "      <th>fb_user_8</th>\n",
       "      <th>night_pck_user_6</th>\n",
       "      <th>night_pck_user_7</th>\n",
       "      <th>night_pck_user_8</th>\n",
       "    </tr>\n",
       "  </thead>\n",
       "  <tbody>\n",
       "    <tr>\n",
       "      <th>3</th>\n",
       "      <td>6/20/2014</td>\n",
       "      <td>7/16/2014</td>\n",
       "      <td>8/26/2014</td>\n",
       "      <td>NaN</td>\n",
       "      <td>NaN</td>\n",
       "      <td>NaN</td>\n",
       "      <td>NaN</td>\n",
       "      <td>NaN</td>\n",
       "      <td>NaN</td>\n",
       "      <td>NaN</td>\n",
       "      <td>NaN</td>\n",
       "      <td>NaN</td>\n",
       "    </tr>\n",
       "    <tr>\n",
       "      <th>6</th>\n",
       "      <td>6/22/2014</td>\n",
       "      <td>7/31/2014</td>\n",
       "      <td>8/26/2014</td>\n",
       "      <td>NaN</td>\n",
       "      <td>NaN</td>\n",
       "      <td>NaN</td>\n",
       "      <td>NaN</td>\n",
       "      <td>NaN</td>\n",
       "      <td>NaN</td>\n",
       "      <td>NaN</td>\n",
       "      <td>NaN</td>\n",
       "      <td>NaN</td>\n",
       "    </tr>\n",
       "    <tr>\n",
       "      <th>8</th>\n",
       "      <td>6/14/2014</td>\n",
       "      <td>7/30/2014</td>\n",
       "      <td>8/30/2014</td>\n",
       "      <td>NaN</td>\n",
       "      <td>7/24/2014</td>\n",
       "      <td>8/25/2014</td>\n",
       "      <td>NaN</td>\n",
       "      <td>1.0</td>\n",
       "      <td>1.0</td>\n",
       "      <td>NaN</td>\n",
       "      <td>0.0</td>\n",
       "      <td>0.0</td>\n",
       "    </tr>\n",
       "    <tr>\n",
       "      <th>10</th>\n",
       "      <td>6/30/2014</td>\n",
       "      <td>7/22/2014</td>\n",
       "      <td>8/26/2014</td>\n",
       "      <td>NaN</td>\n",
       "      <td>NaN</td>\n",
       "      <td>NaN</td>\n",
       "      <td>NaN</td>\n",
       "      <td>NaN</td>\n",
       "      <td>NaN</td>\n",
       "      <td>NaN</td>\n",
       "      <td>NaN</td>\n",
       "      <td>NaN</td>\n",
       "    </tr>\n",
       "    <tr>\n",
       "      <th>11</th>\n",
       "      <td>6/25/2014</td>\n",
       "      <td>7/17/2014</td>\n",
       "      <td>8/19/2014</td>\n",
       "      <td>6/12/2014</td>\n",
       "      <td>7/10/2014</td>\n",
       "      <td>8/8/2014</td>\n",
       "      <td>1.0</td>\n",
       "      <td>1.0</td>\n",
       "      <td>1.0</td>\n",
       "      <td>0.0</td>\n",
       "      <td>0.0</td>\n",
       "      <td>0.0</td>\n",
       "    </tr>\n",
       "    <tr>\n",
       "      <th>...</th>\n",
       "      <td>...</td>\n",
       "      <td>...</td>\n",
       "      <td>...</td>\n",
       "      <td>...</td>\n",
       "      <td>...</td>\n",
       "      <td>...</td>\n",
       "      <td>...</td>\n",
       "      <td>...</td>\n",
       "      <td>...</td>\n",
       "      <td>...</td>\n",
       "      <td>...</td>\n",
       "      <td>...</td>\n",
       "    </tr>\n",
       "    <tr>\n",
       "      <th>69987</th>\n",
       "      <td>6/26/2014</td>\n",
       "      <td>7/28/2014</td>\n",
       "      <td>8/28/2014</td>\n",
       "      <td>NaN</td>\n",
       "      <td>NaN</td>\n",
       "      <td>NaN</td>\n",
       "      <td>NaN</td>\n",
       "      <td>NaN</td>\n",
       "      <td>NaN</td>\n",
       "      <td>NaN</td>\n",
       "      <td>NaN</td>\n",
       "      <td>NaN</td>\n",
       "    </tr>\n",
       "    <tr>\n",
       "      <th>69993</th>\n",
       "      <td>6/30/2014</td>\n",
       "      <td>7/17/2014</td>\n",
       "      <td>8/28/2014</td>\n",
       "      <td>NaN</td>\n",
       "      <td>NaN</td>\n",
       "      <td>NaN</td>\n",
       "      <td>NaN</td>\n",
       "      <td>NaN</td>\n",
       "      <td>NaN</td>\n",
       "      <td>NaN</td>\n",
       "      <td>NaN</td>\n",
       "      <td>NaN</td>\n",
       "    </tr>\n",
       "    <tr>\n",
       "      <th>69994</th>\n",
       "      <td>6/29/2014</td>\n",
       "      <td>7/31/2014</td>\n",
       "      <td>8/31/2014</td>\n",
       "      <td>NaN</td>\n",
       "      <td>NaN</td>\n",
       "      <td>8/9/2014</td>\n",
       "      <td>NaN</td>\n",
       "      <td>NaN</td>\n",
       "      <td>1.0</td>\n",
       "      <td>NaN</td>\n",
       "      <td>NaN</td>\n",
       "      <td>0.0</td>\n",
       "    </tr>\n",
       "    <tr>\n",
       "      <th>69997</th>\n",
       "      <td>6/27/2014</td>\n",
       "      <td>7/25/2014</td>\n",
       "      <td>8/30/2014</td>\n",
       "      <td>NaN</td>\n",
       "      <td>NaN</td>\n",
       "      <td>NaN</td>\n",
       "      <td>NaN</td>\n",
       "      <td>NaN</td>\n",
       "      <td>NaN</td>\n",
       "      <td>NaN</td>\n",
       "      <td>NaN</td>\n",
       "      <td>NaN</td>\n",
       "    </tr>\n",
       "    <tr>\n",
       "      <th>69998</th>\n",
       "      <td>6/30/2014</td>\n",
       "      <td>7/27/2014</td>\n",
       "      <td>8/31/2014</td>\n",
       "      <td>6/30/2014</td>\n",
       "      <td>NaN</td>\n",
       "      <td>NaN</td>\n",
       "      <td>1.0</td>\n",
       "      <td>NaN</td>\n",
       "      <td>NaN</td>\n",
       "      <td>0.0</td>\n",
       "      <td>NaN</td>\n",
       "      <td>NaN</td>\n",
       "    </tr>\n",
       "  </tbody>\n",
       "</table>\n",
       "<p>34999 rows × 12 columns</p>\n",
       "</div>"
      ],
      "text/plain": [
       "      date_of_last_rech_6 date_of_last_rech_7 date_of_last_rech_8  \\\n",
       "3               6/20/2014           7/16/2014           8/26/2014   \n",
       "6               6/22/2014           7/31/2014           8/26/2014   \n",
       "8               6/14/2014           7/30/2014           8/30/2014   \n",
       "10              6/30/2014           7/22/2014           8/26/2014   \n",
       "11              6/25/2014           7/17/2014           8/19/2014   \n",
       "...                   ...                 ...                 ...   \n",
       "69987           6/26/2014           7/28/2014           8/28/2014   \n",
       "69993           6/30/2014           7/17/2014           8/28/2014   \n",
       "69994           6/29/2014           7/31/2014           8/31/2014   \n",
       "69997           6/27/2014           7/25/2014           8/30/2014   \n",
       "69998           6/30/2014           7/27/2014           8/31/2014   \n",
       "\n",
       "      date_of_last_rech_data_6 date_of_last_rech_data_7  \\\n",
       "3                          NaN                      NaN   \n",
       "6                          NaN                      NaN   \n",
       "8                          NaN                7/24/2014   \n",
       "10                         NaN                      NaN   \n",
       "11                   6/12/2014                7/10/2014   \n",
       "...                        ...                      ...   \n",
       "69987                      NaN                      NaN   \n",
       "69993                      NaN                      NaN   \n",
       "69994                      NaN                      NaN   \n",
       "69997                      NaN                      NaN   \n",
       "69998                6/30/2014                      NaN   \n",
       "\n",
       "      date_of_last_rech_data_8  fb_user_6  fb_user_7  fb_user_8  \\\n",
       "3                          NaN        NaN        NaN        NaN   \n",
       "6                          NaN        NaN        NaN        NaN   \n",
       "8                    8/25/2014        NaN        1.0        1.0   \n",
       "10                         NaN        NaN        NaN        NaN   \n",
       "11                    8/8/2014        1.0        1.0        1.0   \n",
       "...                        ...        ...        ...        ...   \n",
       "69987                      NaN        NaN        NaN        NaN   \n",
       "69993                      NaN        NaN        NaN        NaN   \n",
       "69994                 8/9/2014        NaN        NaN        1.0   \n",
       "69997                      NaN        NaN        NaN        NaN   \n",
       "69998                      NaN        1.0        NaN        NaN   \n",
       "\n",
       "       night_pck_user_6  night_pck_user_7  night_pck_user_8  \n",
       "3                   NaN               NaN               NaN  \n",
       "6                   NaN               NaN               NaN  \n",
       "8                   NaN               0.0               0.0  \n",
       "10                  NaN               NaN               NaN  \n",
       "11                  0.0               0.0               0.0  \n",
       "...                 ...               ...               ...  \n",
       "69987               NaN               NaN               NaN  \n",
       "69993               NaN               NaN               NaN  \n",
       "69994               NaN               NaN               0.0  \n",
       "69997               NaN               NaN               NaN  \n",
       "69998               0.0               NaN               NaN  \n",
       "\n",
       "[34999 rows x 12 columns]"
      ]
     },
     "execution_count": 123,
     "metadata": {},
     "output_type": "execute_result"
    }
   ],
   "source": [
    "df_train[feats_select]"
   ]
  },
  {
   "cell_type": "code",
   "execution_count": 125,
   "id": "united-instruction",
   "metadata": {
    "scrolled": true
   },
   "outputs": [
    {
     "data": {
      "text/plain": [
       "1.0    8029\n",
       "0.0     738\n",
       "Name: fb_user_6, dtype: int64"
      ]
     },
     "execution_count": 125,
     "metadata": {},
     "output_type": "execute_result"
    }
   ],
   "source": [
    "df_train['fb_user_6'].value_counts()"
   ]
  },
  {
   "cell_type": "code",
   "execution_count": 31,
   "id": "initial-twelve",
   "metadata": {
    "scrolled": true
   },
   "outputs": [
    {
     "data": {
      "text/plain": [
       "<AxesSubplot:xlabel='churn_probability', ylabel='arpu_6'>"
      ]
     },
     "execution_count": 31,
     "metadata": {},
     "output_type": "execute_result"
    },
    {
     "data": {
      "image/png": "[encoded data removed]",
      "text/plain": [
       "<Figure size 432x288 with 1 Axes>"
      ]
     },
     "metadata": {
      "needs_background": "light"
     },
     "output_type": "display_data"
    }
   ],
   "source": [
    "\n",
    "plt.hlines(y = df_train.arpu_6.mean(), xmin = -1, xmax = 2  )\n",
    "sns.barplot(x = 'churn_probability', y = 'arpu_6', data = df_train)"
   ]
  },
  {
   "cell_type": "code",
   "execution_count": 25,
   "id": "global-rolling",
   "metadata": {
    "scrolled": true
   },
   "outputs": [
    {
     "data": {
      "text/html": [
       "<div>\n",
       "<style scoped>\n",
       "    .dataframe tbody tr th:only-of-type {\n",
       "        vertical-align: middle;\n",
       "    }\n",
       "\n",
       "    .dataframe tbody tr th {\n",
       "        vertical-align: top;\n",
       "    }\n",
       "\n",
       "    .dataframe thead th {\n",
       "        text-align: right;\n",
       "    }\n",
       "</style>\n",
       "<table border=\"1\" class=\"dataframe\">\n",
       "  <thead>\n",
       "    <tr style=\"text-align: right;\">\n",
       "      <th></th>\n",
       "      <th>arpu_6</th>\n",
       "    </tr>\n",
       "    <tr>\n",
       "      <th>churn_probability</th>\n",
       "      <th></th>\n",
       "    </tr>\n",
       "  </thead>\n",
       "  <tbody>\n",
       "    <tr>\n",
       "      <th>0</th>\n",
       "      <td>279.283569</td>\n",
       "    </tr>\n",
       "    <tr>\n",
       "      <th>1</th>\n",
       "      <td>307.915009</td>\n",
       "    </tr>\n",
       "  </tbody>\n",
       "</table>\n",
       "</div>"
      ],
      "text/plain": [
       "                       arpu_6\n",
       "churn_probability            \n",
       "0                  279.283569\n",
       "1                  307.915009"
      ]
     },
     "execution_count": 25,
     "metadata": {},
     "output_type": "execute_result"
    }
   ],
   "source": [
    "df_train[['arpu_6', 'churn_probability']].groupby('churn_probability').agg('mean')"
   ]
  },
  {
   "cell_type": "code",
   "execution_count": 34,
   "id": "pharmaceutical-dating",
   "metadata": {
    "scrolled": true
   },
   "outputs": [
    {
     "data": {
      "text/plain": [
       "<AxesSubplot:xlabel='total_ic_mou_8', ylabel='total_ic_mou_6'>"
      ]
     },
     "execution_count": 34,
     "metadata": {},
     "output_type": "execute_result"
    },
    {
     "data": {
      "image/png": "[encoded data removed]",
      "text/plain": [
       "<Figure size 432x288 with 1 Axes>"
      ]
     },
     "metadata": {
      "needs_background": "light"
     },
     "output_type": "display_data"
    }
   ],
   "source": [
    "sns.scatterplot( x = 'total_ic_mou_8', y = 'total_ic_mou_6', hue  = 'churn_probability', data = df_train) "
   ]
  },
  {
   "cell_type": "code",
   "execution_count": 35,
   "id": "virtual-complaint",
   "metadata": {
    "scrolled": false
   },
   "outputs": [
    {
     "data": {
      "text/plain": [
       "<AxesSubplot:xlabel='total_rech_amt_8', ylabel='total_rech_amt_6'>"
      ]
     },
     "execution_count": 35,
     "metadata": {},
     "output_type": "execute_result"
    },
    {
     "data": {
      "image/png": "[encoded data removed]",
      "text/plain": [
       "<Figure size 432x288 with 1 Axes>"
      ]
     },
     "metadata": {
      "needs_background": "light"
     },
     "output_type": "display_data"
    }
   ],
   "source": [
    "sns.scatterplot( x = 'total_rech_amt_8', y = 'total_rech_amt_6', hue  = 'churn_probability', data = df_train) "
   ]
  },
  {
   "cell_type": "code",
   "execution_count": 37,
   "id": "african-combination",
   "metadata": {},
   "outputs": [],
   "source": [
    "def date_impute(x):\n",
    "    if x==0:\n",
    "        return 0\n",
    "    else:\n",
    "        return 1"
   ]
  },
  {
   "cell_type": "code",
   "execution_count": 38,
   "id": "white-violence",
   "metadata": {},
   "outputs": [],
   "source": [
    "df_train['date_of_last_rech_6'] = df_train['date_of_last_rech_6'].apply(date_impute)"
   ]
  },
  {
   "cell_type": "code",
   "execution_count": 42,
   "id": "animal-husband",
   "metadata": {
    "scrolled": true
   },
   "outputs": [
    {
     "data": {
      "text/plain": [
       "1    34999\n",
       "Name: date_of_last_rech_6, dtype: int64"
      ]
     },
     "execution_count": 42,
     "metadata": {},
     "output_type": "execute_result"
    }
   ],
   "source": [
    "df_train['date_of_last_rech_6'].value_counts()"
   ]
  }
 ],
 "metadata": {
  "kernelspec": {
   "display_name": "Python 3 (ipykernel)",
   "language": "python",
   "name": "python3"
  },
  "language_info": {
   "codemirror_mode": {
    "name": "ipython",
    "version": 3
   },
   "file_extension": ".py",
   "mimetype": "text/x-python",
   "name": "python",
   "nbconvert_exporter": "python",
   "pygments_lexer": "ipython3",
   "version": "3.11.3"
  }
 },
 "nbformat": 4,
 "nbformat_minor": 5
}
