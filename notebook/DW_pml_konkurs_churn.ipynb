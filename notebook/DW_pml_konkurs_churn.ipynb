{
 "cells": [
  {
   "cell_type": "code",
   "execution_count": 22,
   "id": "3311eacd",
   "metadata": {},
   "outputs": [],
   "source": [
    "%run mlflow_make_experiment.ipynb\n",
    "\n",
    "import pandas as pd\n",
    "import numpy as np\n",
    "from itertools  import combinations\n",
    "from datetime import date\n",
    "\n",
    "from sklearn.dummy import DummyClassifier\n",
    "from sklearn.tree import DecisionTreeClassifier\n",
    "from sklearn.ensemble import RandomForestClassifier, ExtraTreesClassifier\n",
    "\n",
    "import catboost as ctb\n",
    "import xgboost as xgb"
   ]
  },
  {
   "cell_type": "code",
   "execution_count": 3,
   "id": "0b186724",
   "metadata": {
    "scrolled": false
   },
   "outputs": [
    {
     "name": "stdout",
     "output_type": "stream",
     "text": [
      "(34999, 171) (35000, 170)\n"
     ]
    }
   ],
   "source": [
    "df_train = pd.read_hdf(\"../input/train_churn_pred.h5\") \n",
    "df_test = pd.read_hdf(\"../input/test_churn_pred.h5\") \n",
    "\n",
    "print(df_train.shape, df_test.shape)"
   ]
  },
  {
   "cell_type": "code",
   "execution_count": 4,
   "id": "b4794ab1",
   "metadata": {
    "scrolled": false
   },
   "outputs": [
    {
     "name": "stdout",
     "output_type": "stream",
     "text": [
      "<class 'pandas.core.frame.DataFrame'>\n",
      "Int64Index: 34999 entries, 3 to 69998\n",
      "Columns: 171 entries, id to churn_probability\n",
      "dtypes: float16(33), float32(102), int16(10), int32(3), int64(1), int8(16), object(6)\n",
      "memory usage: 19.6+ MB\n"
     ]
    }
   ],
   "source": [
    "df_train.info()"
   ]
  },
  {
   "cell_type": "code",
   "execution_count": 6,
   "id": "a773e86c",
   "metadata": {
    "scrolled": true
   },
   "outputs": [],
   "source": [
    "# conwertowanie typu danych \n",
    "type_conversion_map = {'float16': 'float32', 'int16': 'int32', 'int8': 'int32'}\n",
    "\n",
    "def conv_datatype(df):\n",
    "    \n",
    "    for column in df.columns:\n",
    "        current_type = str(df[column].dtypes)\n",
    "        if current_type in type_conversion_map:\n",
    "            new_type = type_conversion_map[current_type]\n",
    "            df[column] = df[column].astype(new_type)"
   ]
  },
  {
   "cell_type": "code",
   "execution_count": 7,
   "id": "765a64e7",
   "metadata": {
    "scrolled": false
   },
   "outputs": [
    {
     "name": "stdout",
     "output_type": "stream",
     "text": [
      "<class 'pandas.core.frame.DataFrame'>\n",
      "Int64Index: 34999 entries, 3 to 69998\n",
      "Columns: 171 entries, id to churn_probability\n",
      "dtypes: float32(135), int32(29), int64(1), object(6)\n",
      "memory usage: 24.0+ MB\n"
     ]
    }
   ],
   "source": [
    "conv_datatype(df_train)\n",
    "conv_datatype(df_test)\n",
    "\n",
    "df_train.info()"
   ]
  },
  {
   "cell_type": "code",
   "execution_count": 11,
   "id": "51c21eaf",
   "metadata": {},
   "outputs": [],
   "source": [
    "def prepare_submit(df_train, df_test, model, feats, out_filename, treshold=0.2):\n",
    "    X_train = df_train[feats].fillna(-1).values\n",
    "    y_train = df_train[\"churn_probability\"].values\n",
    "    X_test = df_test[feats].fillna(-1).values\n",
    "    \n",
    "    model.fit(X_train, y_train)\n",
    "    y_pred_proba = model.predict_proba(X_test)[:, 1]\n",
    "    y_pred = (y_pred_proba > treshold).astype(\"int\")\n",
    "    \n",
    "    df_test[\"churn_probability\"] = y_pred\n",
    "\n",
    "    out_path = \"../output/{}.csv\".format(out_filename)\n",
    "    df_test[ [\"id\", \"churn_probability\"] ].to_csv(out_path, index=False)"
   ]
  },
  {
   "cell_type": "code",
   "execution_count": 19,
   "id": "ec08fa17",
   "metadata": {},
   "outputs": [],
   "source": [
    "def fe(df):\n",
    "    metrics = {\"_\".join( x.split(\"_\")[:-1] ) for x in df_train.columns if \"mou_6\" in x}\n",
    "\n",
    "    for metric in metrics:\n",
    "        metric_months = [\"{}_{}\".format(metric, x) for x in [8, 7, 6]]\n",
    "\n",
    "        mean_by_month = df[metric_months].mean(axis=0).to_dict()\n",
    "        df[f\"mean_{metric}\"] = df[metric_months].mean(axis=1)\n",
    "        df[f\"sum_{metric}\"] = df[metric_months].sum(axis=1)\n",
    "        df[f\"min_{metric}\"] = df[metric_months].min(axis=1)\n",
    "        df[f\"max_{metric}\"] = df[metric_months].max(axis=1)\n",
    "\n",
    "\n",
    "\n",
    "        for pair in combinations(metric_months, 2):\n",
    "            df[f\"{pair[0]} - {pair[1]}\"] = df[pair[0]] - df[pair[1]] \n",
    "            df[f\"{pair[0]} / {pair[1]}\"] = df[pair[0]] / df[pair[1]] \n",
    "            \n",
    "\n",
    "\n",
    "            df[f\"mean_{pair[0]} - {pair[0]}\"] = mean_by_month[pair[0]] - df[pair[0]]\n",
    "            df[f\"mean_{pair[1]} - {pair[1]}\"] = mean_by_month[pair[1]] - df[pair[1]]\n",
    "            \n",
    "            \n",
    "            df[f\"mean_{pair[0]} / {pair[0]}\"] = mean_by_month[pair[0]] / df[pair[0]]\n",
    "            df[f\"mean_{pair[1]} / {pair[1]}\"] = mean_by_month[pair[1]] / df[pair[1]]\n",
    "\n",
    "            # zmiana kolumn z datami na datetime\n",
    "            # ekstrakcja pól rok, miesiąc, dzień\n",
    "            \n",
    "    date_cols = ['date_of_last_rech_6',\n",
    "                 'date_of_last_rech_7',\n",
    "                 'date_of_last_rech_8',\n",
    "                  'date_of_last_rech_data_6',\n",
    "                  'date_of_last_rech_data_7',\n",
    "                  'date_of_last_rech_data_8'\n",
    "    ]\n",
    "    \n",
    "    \n",
    "    for col in date_cols:\n",
    "        df[col] = pd.to_datetime(df[col], format='%m/%d/%Y')    \n",
    "        df[col+\"_year\"] = df[col].dt.year\n",
    "        df[col+\"_month\"] = df[col].dt.month\n",
    "        df[col+\"_day\"] = df[col].dt.day\n",
    "            \n",
    "    #cechy pojawiające się wysoko w rankingu z eli5    \n",
    "    most_imp = ['last_day_rch_amt_8',\n",
    "                'total_ic_mou_8 / total_ic_mou_7',\n",
    "                'roam_og_mou_8 / roam_og_mou_7',\n",
    "                'mean_total_ic_mou_8 - total_ic_mou_8', \n",
    "                'total_ic_mou_8 / total_ic_mou_6','roam_og_mou_8', \n",
    "                'total_rech_num_7',\n",
    "                'fb_user_8',\n",
    "                'total_rech_num_8',\n",
    "                'aon'\n",
    "        \n",
    "    ]\n",
    "\n",
    "    #dla najważniejszych cech logarytm i pierwiastek\n",
    "    for feat in most_imp:\n",
    "        df[feat+'_log1p'] = df[feat].apply(lambda x: np.log1p(x))\n",
    "        df[feat+'_sqrt'] = df[feat].apply(lambda x: np.sqrt(x))\n",
    "        \n",
    "    return df"
   ]
  },
  {
   "cell_type": "code",
   "execution_count": 33,
   "id": "46adaa6e",
   "metadata": {
    "scrolled": true
   },
   "outputs": [],
   "source": [
    "df_train_fe = fe(df_train.copy())\n",
    "df_test_fe = fe(df_test.copy())"
   ]
  },
  {
   "cell_type": "code",
   "execution_count": 37,
   "id": "cordless-seeker",
   "metadata": {},
   "outputs": [],
   "source": [
    "model = ctb.CatBoostClassifier(\n",
    "    max_depth=7, n_estimators=300, random_state=0, \n",
    "    learning_rate=0.085, verbose=False\n",
    ")\n",
    "\n",
    "_ = make_experiment(\n",
    "    df_train_fe, model,\n",
    "    feats=None,\n",
    "    make_random_feats=False)"
   ]
  },
  {
   "cell_type": "code",
   "execution_count": 7,
   "id": "designed-ridge",
   "metadata": {},
   "outputs": [],
   "source": [
    "#najlepszy wynik dla threshold 0.18\n",
    "prepare_submit(df_train_fe, df_test_fe, model, feats, \"ctb_feats_dates_log_sqrt\", treshold=0.18)"
   ]
  }
 ],
 "metadata": {
  "kernelspec": {
   "display_name": "pml",
   "language": "python",
   "name": "pml"
  },
  "language_info": {
   "codemirror_mode": {
    "name": "ipython",
    "version": 3
   },
   "file_extension": ".py",
   "mimetype": "text/x-python",
   "name": "python",
   "nbconvert_exporter": "python",
   "pygments_lexer": "ipython3",
   "version": "3.11.3"
  }
 },
 "nbformat": 4,
 "nbformat_minor": 5
}
