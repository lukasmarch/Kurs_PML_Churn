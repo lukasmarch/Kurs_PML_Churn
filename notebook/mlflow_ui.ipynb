{
 "cells": [
  {
   "cell_type": "code",
   "execution_count": null,
   "id": "00ef36a1",
   "metadata": {
    "scrolled": true
   },
   "outputs": [
    {
     "name": "stdout",
     "output_type": "stream",
     "text": [
      "[2023-05-11 19:13:18 +0200] [2220] [INFO] Starting gunicorn 20.1.0\n",
      "[2023-05-11 19:13:18 +0200] [2220] [INFO] Listening at: http://127.0.0.1:5000 (2220)\n",
      "[2023-05-11 19:13:18 +0200] [2220] [INFO] Using worker: sync\n",
      "[2023-05-11 19:13:18 +0200] [2221] [INFO] Booting worker with pid: 2221\n",
      "[2023-05-11 19:13:18 +0200] [2222] [INFO] Booting worker with pid: 2222\n",
      "[2023-05-11 19:13:18 +0200] [2223] [INFO] Booting worker with pid: 2223\n",
      "[2023-05-11 19:13:18 +0200] [2224] [INFO] Booting worker with pid: 2224\n",
      "[2023-05-11 19:27:55 +0200] [2220] [CRITICAL] WORKER TIMEOUT (pid:2221)\n",
      "[2023-05-11 19:27:55 +0200] [2220] [CRITICAL] WORKER TIMEOUT (pid:2223)\n",
      "[2023-05-11 19:27:55 +0200] [2221] [INFO] Worker exiting (pid: 2221)\n",
      "[2023-05-11 19:27:55 +0200] [2223] [INFO] Worker exiting (pid: 2223)\n",
      "[2023-05-11 19:27:56 +0200] [2220] [WARNING] Worker with pid 2223 was terminated due to signal 9\n",
      "[2023-05-11 19:27:56 +0200] [2426] [INFO] Booting worker with pid: 2426\n",
      "[2023-05-11 19:27:57 +0200] [2427] [INFO] Booting worker with pid: 2427\n",
      "[2023-05-11 19:44:28 +0200] [2220] [CRITICAL] WORKER TIMEOUT (pid:2222)\n",
      "[2023-05-11 19:44:28 +0200] [2220] [CRITICAL] WORKER TIMEOUT (pid:2224)\n",
      "[2023-05-11 19:44:28 +0200] [2220] [CRITICAL] WORKER TIMEOUT (pid:2426)\n",
      "[2023-05-11 19:44:28 +0200] [2220] [CRITICAL] WORKER TIMEOUT (pid:2427)\n",
      "[2023-05-11 19:44:28 +0200] [2427] [INFO] Worker exiting (pid: 2427)\n",
      "[2023-05-11 19:44:28 +0200] [2426] [INFO] Worker exiting (pid: 2426)\n",
      "[2023-05-11 19:44:28 +0200] [2224] [INFO] Worker exiting (pid: 2224)\n",
      "[2023-05-11 19:44:28 +0200] [2222] [INFO] Worker exiting (pid: 2222)\n",
      "[2023-05-11 19:44:29 +0200] [2462] [INFO] Booting worker with pid: 2462\n",
      "[2023-05-11 19:44:29 +0200] [2463] [INFO] Booting worker with pid: 2463\n",
      "[2023-05-11 19:44:29 +0200] [2464] [INFO] Booting worker with pid: 2464\n",
      "[2023-05-11 19:44:29 +0200] [2465] [INFO] Booting worker with pid: 2465\n",
      "[2023-05-11 19:56:40 +0200] [2220] [CRITICAL] WORKER TIMEOUT (pid:2462)\n",
      "[2023-05-11 19:56:40 +0200] [2220] [CRITICAL] WORKER TIMEOUT (pid:2463)\n",
      "[2023-05-11 19:56:40 +0200] [2220] [CRITICAL] WORKER TIMEOUT (pid:2464)\n",
      "[2023-05-11 19:56:40 +0200] [2220] [CRITICAL] WORKER TIMEOUT (pid:2465)\n",
      "[2023-05-11 19:56:40 +0200] [2463] [INFO] Worker exiting (pid: 2463)\n",
      "[2023-05-11 19:56:40 +0200] [2462] [INFO] Worker exiting (pid: 2462)\n",
      "[2023-05-11 19:56:40 +0200] [2465] [INFO] Worker exiting (pid: 2465)\n",
      "[2023-05-11 19:56:40 +0200] [2464] [INFO] Worker exiting (pid: 2464)\n",
      "[2023-05-11 19:56:41 +0200] [2476] [INFO] Booting worker with pid: 2476\n",
      "[2023-05-11 19:56:41 +0200] [2477] [INFO] Booting worker with pid: 2477\n",
      "[2023-05-11 19:56:41 +0200] [2478] [INFO] Booting worker with pid: 2478\n",
      "[2023-05-11 19:56:42 +0200] [2480] [INFO] Booting worker with pid: 2480\n",
      "[2023-05-11 19:58:55 +0200] [2220] [CRITICAL] WORKER TIMEOUT (pid:2476)\n",
      "[2023-05-11 19:58:55 +0200] [2220] [CRITICAL] WORKER TIMEOUT (pid:2477)\n",
      "[2023-05-11 19:58:55 +0200] [2220] [CRITICAL] WORKER TIMEOUT (pid:2478)\n",
      "[2023-05-11 19:58:55 +0200] [2220] [CRITICAL] WORKER TIMEOUT (pid:2480)\n",
      "[2023-05-11 19:58:55 +0200] [2477] [INFO] Worker exiting (pid: 2477)\n",
      "[2023-05-11 19:58:55 +0200] [2476] [INFO] Worker exiting (pid: 2476)\n",
      "[2023-05-11 19:58:55 +0200] [2478] [INFO] Worker exiting (pid: 2478)\n",
      "[2023-05-11 19:58:55 +0200] [2480] [INFO] Worker exiting (pid: 2480)\n",
      "[2023-05-11 19:58:55 +0200] [2516] [INFO] Booting worker with pid: 2516\n",
      "[2023-05-11 19:58:55 +0200] [2517] [INFO] Booting worker with pid: 2517\n",
      "[2023-05-11 19:58:55 +0200] [2518] [INFO] Booting worker with pid: 2518\n",
      "[2023-05-11 19:58:56 +0200] [2519] [INFO] Booting worker with pid: 2519\n",
      "[2023-05-11 20:15:08 +0200] [2220] [CRITICAL] WORKER TIMEOUT (pid:2516)\n",
      "[2023-05-11 20:15:08 +0200] [2516] [INFO] Worker exiting (pid: 2516)\n",
      "[2023-05-11 20:15:08 +0200] [2535] [INFO] Booting worker with pid: 2535\n",
      "[2023-05-11 21:08:06 +0200] [2220] [CRITICAL] WORKER TIMEOUT (pid:2517)\n",
      "[2023-05-11 21:08:06 +0200] [2220] [CRITICAL] WORKER TIMEOUT (pid:2518)\n",
      "[2023-05-11 21:08:06 +0200] [2220] [CRITICAL] WORKER TIMEOUT (pid:2519)\n",
      "[2023-05-11 21:08:06 +0200] [2220] [CRITICAL] WORKER TIMEOUT (pid:2535)\n",
      "[2023-05-11 21:08:06 +0200] [2517] [INFO] Worker exiting (pid: 2517)\n",
      "[2023-05-11 21:08:07 +0200] [2519] [INFO] Worker exiting (pid: 2519)\n",
      "[2023-05-11 21:08:06 +0200] [2518] [INFO] Worker exiting (pid: 2518)\n",
      "[2023-05-11 21:08:07 +0200] [2535] [INFO] Worker exiting (pid: 2535)\n",
      "[2023-05-11 21:08:07 +0200] [2220] [WARNING] Worker with pid 2535 was terminated due to signal 9\n",
      "[2023-05-11 21:08:07 +0200] [2220] [WARNING] Worker with pid 2518 was terminated due to signal 9\n",
      "[2023-05-11 21:08:07 +0200] [2220] [WARNING] Worker with pid 2517 was terminated due to signal 9\n",
      "[2023-05-11 21:08:07 +0200] [2220] [WARNING] Worker with pid 2519 was terminated due to signal 9\n",
      "[2023-05-11 21:08:07 +0200] [2732] [INFO] Booting worker with pid: 2732\n",
      "[2023-05-11 21:08:07 +0200] [2733] [INFO] Booting worker with pid: 2733\n",
      "[2023-05-11 21:08:07 +0200] [2734] [INFO] Booting worker with pid: 2734\n",
      "[2023-05-11 21:08:07 +0200] [2735] [INFO] Booting worker with pid: 2735\n"
     ]
    }
   ],
   "source": [
    "!mlflow ui"
   ]
  }
 ],
 "metadata": {
  "kernelspec": {
   "display_name": "pml",
   "language": "python",
   "name": "pml"
  },
  "language_info": {
   "codemirror_mode": {
    "name": "ipython",
    "version": 3
   },
   "file_extension": ".py",
   "mimetype": "text/x-python",
   "name": "python",
   "nbconvert_exporter": "python",
   "pygments_lexer": "ipython3",
   "version": "3.11.3"
  }
 },
 "nbformat": 4,
 "nbformat_minor": 5
}
